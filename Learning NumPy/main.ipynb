{
 "cells": [
  {
   "cell_type": "code",
   "execution_count": 50,
   "metadata": {},
   "outputs": [],
   "source": [
    "#Importer NumPy\n",
    "import numpy as np"
   ]
  },
  {
   "cell_type": "code",
   "execution_count": 51,
   "metadata": {},
   "outputs": [
    {
     "data": {
      "text/plain": [
       "'1.25.0'"
      ]
     },
     "execution_count": 51,
     "metadata": {},
     "output_type": "execute_result"
    }
   ],
   "source": [
    "#Version de NumPy\n",
    "np.__version__"
   ]
  },
  {
   "cell_type": "code",
   "execution_count": 52,
   "metadata": {},
   "outputs": [
    {
     "data": {
      "text/plain": [
       "array(3.+2.j)"
      ]
     },
     "execution_count": 52,
     "metadata": {},
     "output_type": "execute_result"
    }
   ],
   "source": [
    "#Premier scalaire : np.array()\n",
    "scalaire = np.array(3+2j)\n",
    "scalaire"
   ]
  },
  {
   "cell_type": "code",
   "execution_count": 53,
   "metadata": {},
   "outputs": [
    {
     "data": {
      "text/plain": [
       "array([1, 2])"
      ]
     },
     "execution_count": 53,
     "metadata": {},
     "output_type": "execute_result"
    }
   ],
   "source": [
    "#Premier tableau : np.array([])\n",
    "tableau = np.array([1,2])\n",
    "tableau"
   ]
  },
  {
   "cell_type": "code",
   "execution_count": 54,
   "metadata": {},
   "outputs": [
    {
     "name": "stdout",
     "output_type": "stream",
     "text": [
      "1\n",
      "0\n"
     ]
    },
    {
     "data": {
      "text/plain": [
       "array([1])"
      ]
     },
     "execution_count": 54,
     "metadata": {},
     "output_type": "execute_result"
    }
   ],
   "source": [
    "#Dimension d'un ndarray : array.ndim\n",
    "print(tableau.ndim)\n",
    "print(scalaire.ndim)\n",
    "\n",
    "#ndarray de dimensions supérieures\n",
    "scalaire = np.array(1,ndmin=1)\n",
    "scalaire"
   ]
  },
  {
   "cell_type": "code",
   "execution_count": 55,
   "metadata": {},
   "outputs": [
    {
     "name": "stdout",
     "output_type": "stream",
     "text": [
      "1\n"
     ]
    },
    {
     "data": {
      "text/plain": [
       "2"
      ]
     },
     "execution_count": 55,
     "metadata": {},
     "output_type": "execute_result"
    }
   ],
   "source": [
    "#Index d'un tableau à une dimension\n",
    "print(tableau[0])\n",
    "\n",
    "#Index dans un tableau à n dimensions\n",
    "n=2\n",
    "tableau_dim_deux = np.array([tableau,tableau[::-1]]) #Renverser le deuxième tableau\n",
    "tableau_dim_deux[0,1]"
   ]
  },
  {
   "cell_type": "code",
   "execution_count": 75,
   "metadata": {},
   "outputs": [
    {
     "name": "stdout",
     "output_type": "stream",
     "text": [
      "[2 3 4]\n",
      "[ 3  4  5  6  7  8  9 10]\n",
      "[1 2]\n",
      "[1 2 3]\n",
      "[7 8 9]\n"
     ]
    }
   ],
   "source": [
    "#Récupérer une partie d'un tableau\n",
    "arr = np.array([i for i in range(1,11)])\n",
    "arr\n",
    "print(arr[1:4])\n",
    "\n",
    "#Récupérer les éléments d'un tableau depuis le troisième élément au dernier\n",
    "print(arr[2:])\n",
    "\n",
    "#Récupérer les éléments d'un tableau depuis le premier au troisième élément (exclu)\n",
    "print(arr[:2])\n",
    "\n",
    "#Récupérer les éléments d'un tableau depuis le premier au troisième élément (inclus)\n",
    "print(arr[:3])\n",
    "\n",
    "#Récupérer les éléments d'un tableau depuis le premier au troisième élément (inclus) dans le sens inverse\n",
    "print(arr[-4:-1])"
   ]
  },
  {
   "cell_type": "code",
   "execution_count": 87,
   "metadata": {},
   "outputs": [
    {
     "name": "stdout",
     "output_type": "stream",
     "text": [
      "[1 3 5 7 9]\n"
     ]
    }
   ],
   "source": [
    "#Récupérer tous les 2 éléments d'un tableau\n",
    "print(arr[::2])"
   ]
  },
  {
   "cell_type": "code",
   "execution_count": 104,
   "metadata": {},
   "outputs": [
    {
     "name": "stdout",
     "output_type": "stream",
     "text": [
      "[10  9  8  7  6  5  4  3  2  1]\n",
      "[2 9]\n"
     ]
    }
   ],
   "source": [
    "#Récupérer les éléments d'un tableau à deux dimensions\n",
    "tableau_deux = np.array([arr,arr[::-1]])\n",
    "tableau_deux\n",
    "\n",
    "print(tableau_deux[0,::-1]) #Renverser le premier tableau\n",
    "print(tableau_deux[:,1]) #Récupère le deuxième élément de chaque tableau"
   ]
  },
  {
   "cell_type": "code",
   "execution_count": 110,
   "metadata": {},
   "outputs": [
    {
     "name": "stdout",
     "output_type": "stream",
     "text": [
      "[ 1  2  3  4  5  6  7  8  9 10]\n",
      "[ 5  2  3  4  5  6  7  8  9 10]\n",
      "[ 5  2  3  4  5  6  7  8  9 10]\n"
     ]
    }
   ],
   "source": [
    "#Copie et vue sur un array\n",
    "arr[0]=1\n",
    "copy_arr = arr.copy()\n",
    "copy_arr\n",
    "\n",
    "view_arr = arr.view()\n",
    "view_arr[0]=5\n",
    "print(copy_arr)\n",
    "print(view_arr)\n",
    "print(arr)\n",
    "\n",
    "#copy() permet de copier un array sans modifier l'array original\n",
    "#view() permet de copier et de modifier un array"
   ]
  },
  {
   "cell_type": "code",
   "execution_count": 115,
   "metadata": {},
   "outputs": [
    {
     "data": {
      "text/plain": [
       "array([ 1,  2,  3,  4,  5,  6,  7,  8,  9, 10,  5,  2,  3,  4,  5,  6,  7,\n",
       "        8,  9, 10])"
      ]
     },
     "execution_count": 115,
     "metadata": {},
     "output_type": "execute_result"
    }
   ],
   "source": [
    "#Joindre deux tableaux\n",
    "tab = np.concatenate((copy_arr,view_arr))\n",
    "tab"
   ]
  },
  {
   "cell_type": "code",
   "execution_count": 116,
   "metadata": {},
   "outputs": [
    {
     "data": {
      "text/plain": [
       "(array([ 4, 10, 14], dtype=int64),)"
      ]
     },
     "execution_count": 116,
     "metadata": {},
     "output_type": "execute_result"
    }
   ],
   "source": [
    "#Rechercher un élément\n",
    "np.where(tab==5)"
   ]
  },
  {
   "cell_type": "code",
   "execution_count": 118,
   "metadata": {},
   "outputs": [
    {
     "data": {
      "text/plain": [
       "array([ 1,  2,  2,  3,  3,  4,  4,  5,  5,  5,  6,  6,  7,  7,  8,  8,  9,\n",
       "        9, 10, 10])"
      ]
     },
     "execution_count": 118,
     "metadata": {},
     "output_type": "execute_result"
    }
   ],
   "source": [
    "#Trier un tableau\n",
    "tab = np.sort(tab)\n",
    "tab"
   ]
  }
 ],
 "metadata": {
  "kernelspec": {
   "display_name": "Python 3",
   "language": "python",
   "name": "python3"
  },
  "language_info": {
   "codemirror_mode": {
    "name": "ipython",
    "version": 3
   },
   "file_extension": ".py",
   "mimetype": "text/x-python",
   "name": "python",
   "nbconvert_exporter": "python",
   "pygments_lexer": "ipython3",
   "version": "3.11.4"
  },
  "orig_nbformat": 4
 },
 "nbformat": 4,
 "nbformat_minor": 2
}
