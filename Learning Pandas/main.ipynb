{
 "cells": [
  {
   "cell_type": "code",
   "execution_count": 7,
   "metadata": {},
   "outputs": [],
   "source": [
    "#Importer Pandas\n",
    "import pandas as pd"
   ]
  },
  {
   "cell_type": "code",
   "execution_count": 8,
   "metadata": {},
   "outputs": [
    {
     "data": {
      "text/plain": [
       "'2.0.3'"
      ]
     },
     "execution_count": 8,
     "metadata": {},
     "output_type": "execute_result"
    }
   ],
   "source": [
    "#version de pandas\n",
    "pd.__version__"
   ]
  },
  {
   "cell_type": "markdown",
   "metadata": {},
   "source": [
    "# SERIES SOUS PANDAS"
   ]
  },
  {
   "cell_type": "code",
   "execution_count": 9,
   "metadata": {},
   "outputs": [
    {
     "name": "stdout",
     "output_type": "stream",
     "text": [
      "0    1\n",
      "1    2\n",
      "2    3\n",
      "3    4\n",
      "4    5\n",
      "dtype: int64\n",
      "first     1\n",
      "second    2\n",
      "third     3\n",
      "fourth    4\n",
      "fifth     5\n",
      "dtype: int64\n",
      "lundi       1\n",
      "mardi       2\n",
      "mercredi    3\n",
      "jeudi       4\n",
      "vendredi    5\n",
      "samedi      0\n",
      "dimanche   -1\n",
      "dtype: int64\n"
     ]
    }
   ],
   "source": [
    "#Première série Pandas avec un tableau\n",
    "a = [(i+1) for i in range(5)]\n",
    "serie = pd.Series(a)\n",
    "print(serie)\n",
    "\n",
    "#Série labellisée avec un tableau\n",
    "serie_label = pd.Series(a,index=[\"first\",\"second\",\"third\",\"fourth\",\"fifth\"])\n",
    "print(serie_label)\n",
    "\n",
    "#Série labellisée avec un dictionnaire\n",
    "serie_label_dict = pd.Series({\"lundi\":1,\"mardi\":2,\"mercredi\":3,\"jeudi\":4,\"vendredi\":5,\"samedi\":0,\"dimanche\":-1}) #Les clés deviennent des labels\n",
    "print(serie_label_dict)"
   ]
  },
  {
   "cell_type": "markdown",
   "metadata": {},
   "source": [
    "# DATAFRAME SOUS PANDAS"
   ]
  },
  {
   "cell_type": "code",
   "execution_count": 15,
   "metadata": {},
   "outputs": [
    {
     "name": "stdout",
     "output_type": "stream",
     "text": [
      "   calories  duration\n",
      "0       420        50\n",
      "1       380        40\n",
      "2       390        45\n",
      "   calories  duration\n",
      "0       420        50\n",
      "2       390        45\n",
      "   calories  duration\n",
      "x       420        50\n",
      "y       380        40\n",
      "z       390        45\n",
      "calories    420\n",
      "duration     50\n",
      "Name: x, dtype: int64\n",
      "   calories  duration\n",
      "x       420        50\n",
      "   calories  duration\n",
      "z       390        45\n",
      "<class 'pandas.core.frame.DataFrame'>\n",
      "RangeIndex: 169 entries, 0 to 168\n",
      "Data columns (total 4 columns):\n",
      " #   Column    Non-Null Count  Dtype  \n",
      "---  ------    --------------  -----  \n",
      " 0   Duration  169 non-null    int64  \n",
      " 1   Pulse     169 non-null    int64  \n",
      " 2   Maxpulse  169 non-null    int64  \n",
      " 3   Calories  164 non-null    float64\n",
      "dtypes: float64(1), int64(3)\n",
      "memory usage: 5.4 KB\n",
      "None\n",
      "60\n"
     ]
    }
   ],
   "source": [
    "#Premier dataframe\n",
    "data = {\n",
    "  \"calories\": [420, 380, 390],\n",
    "  \"duration\": [50, 40, 45]\n",
    "}\n",
    "\n",
    "myvar = pd.DataFrame(data)\n",
    "\n",
    "print(myvar)\n",
    "\n",
    "#Localiser une ligne dans un dataframe\n",
    "print(myvar.loc[::2])\n",
    "\n",
    "#Dataframe labellisé\n",
    "myvar_label=pd.DataFrame(data,index=[\"x\",\"y\",\"z\"])\n",
    "print(myvar_label)\n",
    "\n",
    "#Localiser une ligne dans un dataframe labellisé (un dataframe utilise les labels, au contraire des index)\n",
    "print(myvar_label.loc[\"x\"])\n",
    "\n",
    "#n premiers éléments\n",
    "n=1\n",
    "print(myvar_label.head(n))\n",
    "\n",
    "#n derniers éléments\n",
    "print(myvar_label.tail(n))\n",
    "\n",
    "#Lecture d'un fichier csv ou json\n",
    "dtframe = pd.read_csv(\"../rawdata/data.csv\")\n",
    "dtframe\n",
    "\n",
    "#Info sur un dataframe\n",
    "print(dtframe.info())\n",
    "\n",
    "#Récupérer un élément d'un dataframe à partir de son index et son header\n",
    "print(dtframe.loc[0,'Duration'])"
   ]
  },
  {
   "cell_type": "markdown",
   "metadata": {},
   "source": [
    "# CLEANING DATA SOUS PANDAS"
   ]
  },
  {
   "cell_type": "code",
   "execution_count": 18,
   "metadata": {},
   "outputs": [
    {
     "name": "stdout",
     "output_type": "stream",
     "text": [
      "        prix  essences\n",
      "AMG      NaN     150.0\n",
      "BMW      5.0     200.0\n",
      "NISSAN  10.0      50.0\n",
      "NISSAN  10.0      50.0\n",
      "FORD    15.0       NaN\n",
      "AUDI     NaN      12.0\n",
      "        prix  essences\n",
      "BMW      5.0     200.0\n",
      "NISSAN  10.0      50.0\n",
      "NISSAN  10.0      50.0\n",
      "        prix  essences\n",
      "AMG      0.0     150.0\n",
      "BMW      5.0     200.0\n",
      "NISSAN  10.0      50.0\n",
      "NISSAN  10.0      50.0\n",
      "FORD    15.0       0.0\n",
      "AUDI     0.0      12.0\n",
      "AMG       False\n",
      "BMW       False\n",
      "NISSAN    False\n",
      "NISSAN     True\n",
      "FORD      False\n",
      "AUDI      False\n",
      "dtype: bool\n",
      "        prix  essences\n",
      "AMG      0.0     150.0\n",
      "BMW      5.0     200.0\n",
      "NISSAN  10.0      50.0\n",
      "FORD    15.0       0.0\n",
      "AUDI     0.0      12.0\n"
     ]
    }
   ],
   "source": [
    "#Mauvaises données\n",
    "bad = {\n",
    "    \"prix\":[float('NaN'),5,10,10,15,float('NaN')],\n",
    "    \"essences\":[150,200,50,50,float('NaN'),12]\n",
    "}\n",
    "baddata = pd.DataFrame(bad,index=[\"AMG\",\"BMW\",\"NISSAN\",\"NISSAN\",\"FORD\",\"AUDI\"])\n",
    "print(baddata)\n",
    "\n",
    "#Nettoyage des valeurs NaN en supprimant les rangs\n",
    "goodData = baddata.dropna()\n",
    "print(goodData)\n",
    "\n",
    "#Nettoyage des valeurs NaN sans supprimer les rangs\n",
    "goodData = baddata.fillna(0)\n",
    "print(goodData)\n",
    "\n",
    "#Suppression des doublons\n",
    "print(goodData.duplicated()) #Affichage des valeurs dupliquées\n",
    "df = goodData.drop_duplicates() #Opération de suppression des doublons\n",
    "print(df)"
   ]
  },
  {
   "cell_type": "markdown",
   "metadata": {},
   "source": [
    "# CORRELATION AVEC PANDAS"
   ]
  },
  {
   "cell_type": "code",
   "execution_count": 20,
   "metadata": {},
   "outputs": [
    {
     "name": "stdout",
     "output_type": "stream",
     "text": [
      "              prix  essences\n",
      "prix      1.000000 -0.422083\n",
      "essences -0.422083  1.000000\n"
     ]
    }
   ],
   "source": [
    "print(df.corr())"
   ]
  },
  {
   "cell_type": "markdown",
   "metadata": {},
   "source": [
    "# AFFICHAGE DE GRAPHIQUE AVEC MATPLOTLIB ET PANDAS"
   ]
  },
  {
   "cell_type": "code",
   "execution_count": 31,
   "metadata": {},
   "outputs": [
    {
     "name": "stdout",
     "output_type": "stream",
     "text": [
      "3.7.2\n"
     ]
    }
   ],
   "source": [
    "#import de matplot\n",
    "import matplotlib\n",
    "#version de matplotlib\n",
    "print(matplotlib.__version__)\n",
    "\n",
    "#import de pyplot\n",
    "import matplotlib.pyplot as plt"
   ]
  },
  {
   "cell_type": "code",
   "execution_count": 37,
   "metadata": {},
   "outputs": [
    {
     "data": {
      "image/png": "[encoded data removed]",
      "text/plain": [
       "<Figure size 640x480 with 1 Axes>"
      ]
     },
     "metadata": {},
     "output_type": "display_data"
    }
   ],
   "source": [
    "df = pd.read_csv(\"../rawdata/data.csv\")\n",
    "df.plot(kind='scatter',x = 'Duration', y = 'Maxpulse')\n",
    "plt.show()\n",
    "#plot(kind='hist') pour un histogramme sur une seule colonne\n",
    "#plot(kind='scatter',x,y) pour un nuage de points"
   ]
  }
 ],
 "metadata": {
  "kernelspec": {
   "display_name": "Python 3",
   "language": "python",
   "name": "python3"
  },
  "language_info": {
   "codemirror_mode": {
    "name": "ipython",
    "version": 3
   },
   "file_extension": ".py",
   "mimetype": "text/x-python",
   "name": "python",
   "nbconvert_exporter": "python",
   "pygments_lexer": "ipython3",
   "version": "3.11.4"
  },
  "orig_nbformat": 4
 },
 "nbformat": 4,
 "nbformat_minor": 2
}
